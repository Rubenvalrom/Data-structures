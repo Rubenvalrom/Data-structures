{
 "cells": [
  {
   "cell_type": "markdown",
   "metadata": {},
   "source": [
    "# Assignment Brief de UNIT 19 - DATA STRUCTURES & ALGORITHMS\n",
    "\n",
    "#### Autor: Rubén Valverde Romero"
   ]
  },
  {
   "cell_type": "markdown",
   "metadata": {},
   "source": [
    "### Definir los tipos de datos básicos con los que trabajaremos en el AB."
   ]
  }
 ],
 "metadata": {
  "language_info": {
   "name": "python"
  }
 },
 "nbformat": 4,
 "nbformat_minor": 2
}
