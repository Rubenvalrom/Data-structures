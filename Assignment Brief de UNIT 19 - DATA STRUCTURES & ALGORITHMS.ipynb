{
 "cells": [
  {
   "cell_type": "markdown",
   "metadata": {},
   "source": [
    "# Assignment Brief de UNIT 19 - DATA STRUCTURES & ALGORITHMS\n",
    "\n",
    "#### Autor: Rubén Valverde Romero"
   ]
  },
  {
   "cell_type": "markdown",
   "metadata": {},
   "source": []
  }
 ],
 "metadata": {
  "language_info": {
   "name": "python"
  }
 },
 "nbformat": 4,
 "nbformat_minor": 2
}
