{
 "cells": [
  {
   "cell_type": "markdown",
   "metadata": {},
   "source": [
    "# Assignment Brief de UNIT 19 - DATA STRUCTURES & ALGORITHMS\n",
    "\n",
    "**Autor: Rubén Valverde Romero**"
   ]
  },
  {
   "cell_type": "markdown",
   "metadata": {},
   "source": [
    "### Definir los tipos de datos básicos con los que trabajaremos en el AB."
   ]
  },
  {
   "cell_type": "markdown",
   "metadata": {},
   "source": [
    "### Tipos de datos empleados en el proyecto\n",
    "\n",
    "1. lista: Representa una secuencia de nodos o vértices del grafo.\n",
    "\n",
    "    - Ejemplo: vertices = ['A', 'B', 'C']\n",
    "\n",
    "2. diccionario: Representa un mapa de adyacencia entre los nodos del grafo.\n",
    "\n",
    "\n",
    "    - Ejemplo: grafo = {'A': ['B', 'C'], 'B': ['A', 'D'], 'C': ['A', 'F'], 'D': ['B'], 'E': ['F'], 'F': ['C', 'E']}\n",
    "\n",
    "3. set: Representa un conjunto de nodos o vértices del grafo.\n",
    "\n",
    "\n",
    "    - Ejemplo: vertices = {'A', 'B', 'C'}\n",
    "\n",
    "4. tupla: Similar a la lista, pero inmutable.\n",
    "\n",
    "\n",
    "    - Ejemplo: vertices = ('A', 'B', 'C')\n",
    "\n",
    "5. numpy.ndarray: Representa una matriz de adyacencia entre los nodos del grafo. Tienen la misma función que los arrays normales pero son más veloces y facilitan los calculos con diversas funciones.\n",
    "\n",
    "\n",
    "    - Ejemplo: grafo = np.array([[0, 1, 0], [1, 0, 1], [0, 1, 0]])\n"
   ]
  },
  {
   "cell_type": "markdown",
   "metadata": {},
   "source": [
    "### Algoritmos de ruta más corta"
   ]
  },
  {
   "cell_type": "markdown",
   "metadata": {},
   "source": [
    "##### Dijkstra    \n",
    "      \n",
    "1. Inicializa la distancia al nodo origen como 0 y a todos los demás nodos como infinito.\n",
    "2. Marca todos los nodos como no visitados. Establece el nodo origen como el nodo actual.\n",
    "3. Para el nodo actual, considera todos sus vecinos no visitados y calcula sus distancias tentativas. Compara la distancia recién calculada con la distancia actual asignada y asigna el menor valor.\n",
    "4. Una vez considerado todos los vecinos del nodo actual, marca el nodo actual como visitado. Un nodo visitado no será revisado nuevamente.\n",
    "5. Si el nodo destino ha sido marcado como visitado o si la distancia más pequeña entre los nodos no visitados es infinita, el algoritmo termina.\n",
    "6. De lo contrario, selecciona el nodo no visitado con la distancia más pequeña, establece este nodo como el nuevo nodo actual y repite el proceso.\n",
    "\n",
    "Nota: El algoritmo de Dijkstra no funciona con pesos negativos.  \n",
    "   \n",
    "(Estefania Cassingena Navone, 2022)"
   ]
  },
  {
   "cell_type": "markdown",
   "metadata": {},
   "source": [
    "\n",
    "![Dijkstra Animation](./imagenes/Dijkstra_Animation.gif)"
   ]
  },
  {
   "cell_type": "code",
   "execution_count": 2,
   "metadata": {},
   "outputs": [
    {
     "name": "stdout",
     "output_type": "stream",
     "text": [
      "Distancias más cortas desde el nodo origen (nodo 0):\n",
      "Distancia al nodo 0: 0.0\n",
      "Distancia al nodo 1: 1.0\n",
      "Distancia al nodo 2: 4.0\n",
      "Distancia al nodo 3: 3.0\n",
      "Distancia al nodo 4: 7.0\n",
      "Distancia al nodo 5: 9.0\n"
     ]
    }
   ],
   "source": [
    "import numpy as np\n",
    "\n",
    "# Representación del grafo como una matriz de adyacencia\n",
    "# 0 indica que no hay conexión directa entre los nodos\n",
    "grafo = np.array([\n",
    "    [0, 1, 4, 0, 0, 0],\n",
    "    [1, 0, 4, 2, 7, 0],\n",
    "    [4, 4, 0, 3, 5, 0],\n",
    "    [0, 2, 3, 0, 4, 6],\n",
    "    [0, 7, 5, 4, 0, 7],\n",
    "    [0, 0, 0, 6, 7, 0]\n",
    "])\n",
    "\n",
    "# Número de nodos en el grafo\n",
    "num_nodos = grafo.shape[0]\n",
    "\n",
    "# Inicializa la distancia al nodo origen (nodo 0) como 0 y a todos los demás nodos como infinito\n",
    "distancias = np.full(num_nodos, np.inf)\n",
    "distancias[0] = 0\n",
    "\n",
    "# Marca todos los nodos como no visitados\n",
    "visitados = np.full(num_nodos, False)\n",
    "\n",
    "# Función para encontrar el nodo no visitado con la distancia más pequeña\n",
    "def nodo_mas_cercano(distancias, visitados):\n",
    "    min_distancia = np.inf\n",
    "    min_nodo = -1\n",
    "    for nodo in range(num_nodos):\n",
    "        if not visitados[nodo] and distancias[nodo] < min_distancia:\n",
    "            min_distancia = distancias[nodo]\n",
    "            min_nodo = nodo\n",
    "    return min_nodo\n",
    "\n",
    "# Algoritmo de Dijkstra\n",
    "for _ in range(num_nodos):\n",
    "    # Selecciona el nodo no visitado con la distancia más pequeña\n",
    "    nodo_actual = nodo_mas_cercano(distancias, visitados)\n",
    "    \n",
    "    # Marca el nodo actual como visitado\n",
    "    visitados[nodo_actual] = True\n",
    "    \n",
    "    # Considera todos los vecinos no visitados del nodo actual\n",
    "    for vecino in range(num_nodos):\n",
    "        if grafo[nodo_actual, vecino] > 0 and not visitados[vecino]:\n",
    "            distancia_tentativa = distancias[nodo_actual] + grafo[nodo_actual, vecino]\n",
    "            # Si la distancia recién calculada es menor, actualiza la distancia\n",
    "            if distancia_tentativa < distancias[vecino]:\n",
    "                distancias[vecino] = distancia_tentativa\n",
    "\n",
    "# Imprime las distancias más cortas desde el nodo origen (nodo 0) a todos los demás nodos\n",
    "print(\"Distancias más cortas desde el nodo origen (nodo 0):\")\n",
    "for nodo in range(num_nodos):\n",
    "    print(f\"Distancia al nodo {nodo}: {distancias[nodo]}\")"
   ]
  }
 ],
 "metadata": {
  "kernelspec": {
   "display_name": "base",
   "language": "python",
   "name": "python3"
  },
  "language_info": {
   "codemirror_mode": {
    "name": "ipython",
    "version": 3
   },
   "file_extension": ".py",
   "mimetype": "text/x-python",
   "name": "python",
   "nbconvert_exporter": "python",
   "pygments_lexer": "ipython3",
   "version": "3.9.13"
  }
 },
 "nbformat": 4,
 "nbformat_minor": 2
}
