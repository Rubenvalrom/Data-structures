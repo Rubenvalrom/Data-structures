{
 "cells": [
  {
   "cell_type": "markdown",
   "metadata": {},
   "source": [
    "# Assignment Brief de UNIT 19 - DATA STRUCTURES & ALGORITHMS\n",
    "\n",
    "#### Autor: Rubén Valverde Romero"
   ]
  },
  {
   "cell_type": "markdown",
   "metadata": {},
   "source": [
    "### Definir los tipos de datos básicos con los que trabajaremos en el AB."
   ]
  },
  {
   "cell_type": "markdown",
   "metadata": {},
   "source": [
    "### Tipos de datos empleados en el proyecto\n",
    "\n",
    "1. lista: Representa una secuencia de nodos o vértices del grafo.\n",
    "\n",
    "    - Ejemplo: vertices = ['A', 'B', 'C']\n",
    "\n",
    "2. diccionario: Representa un mapa de adyacencia entre los nodos del grafo.\n",
    "\n",
    "\n",
    "    - Ejemplo: grafo = {'A': ['B', 'C'], 'B': ['A', 'D'], 'C': ['A', 'F'], 'D': ['B'], 'E': ['F'], 'F': ['C', 'E']}\n",
    "\n",
    "3. set: Representa un conjunto de nodos o vértices del grafo.\n",
    "\n",
    "\n",
    "    - Ejemplo: vertices = {'A', 'B', 'C'}\n",
    "\n",
    "4. tupla: Similar a la lista, pero inmutable.\n",
    "\n",
    "\n",
    "    - Ejemplo: vertices = ('A', 'B', 'C')\n",
    "\n",
    "5. numpy.ndarray: Representa una matriz de adyacencia entre los nodos del grafo. Tienen la misma función que los arrays normales pero son más veloces y facilitan los calculos con diversas funciones.\n",
    "\n",
    "\n",
    "    - Ejemplo: grafo = np.array([[0, 1, 0], [1, 0, 1], [0, 1, 0]])\n"
   ]
  }
 ],
 "metadata": {
  "kernelspec": {
   "display_name": "base",
   "language": "python",
   "name": "python3"
  },
  "language_info": {
   "codemirror_mode": {
    "name": "ipython",
    "version": 3
   },
   "file_extension": ".py",
   "mimetype": "text/x-python",
   "name": "python",
   "nbconvert_exporter": "python",
   "pygments_lexer": "ipython3",
   "version": "3.9.13"
  }
 },
 "nbformat": 4,
 "nbformat_minor": 2
}
